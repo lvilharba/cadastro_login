{
  "nbformat": 4,
  "nbformat_minor": 0,
  "metadata": {
    "colab": {
      "provenance": [],
      "authorship_tag": "ABX9TyNSYt2/zErw9pSyWmuuixrK",
      "include_colab_link": true
    },
    "kernelspec": {
      "name": "python3",
      "display_name": "Python 3"
    },
    "language_info": {
      "name": "python"
    }
  },
  "cells": [
    {
      "cell_type": "markdown",
      "metadata": {
        "id": "view-in-github",
        "colab_type": "text"
      },
      "source": [
        "<a href=\"https://colab.research.google.com/github/lvilharba/cadastro_login/blob/main/cadastro_login.ipynb\" target=\"_parent\"><img src=\"https://colab.research.google.com/assets/colab-badge.svg\" alt=\"Open In Colab\"/></a>"
      ]
    },
    {
      "cell_type": "code",
      "execution_count": null,
      "metadata": {
        "colab": {
          "base_uri": "https://localhost:8080/"
        },
        "id": "S8QEEfwWVvOF",
        "outputId": "2830ca8e-1959-4921-a031-931ed21d7887"
      },
      "outputs": [
        {
          "name": "stdout",
          "output_type": "stream",
          "text": [
            "1 - Cadastrar novo usuário\n",
            "2 - Fazer login\n",
            "3 - Sair\n",
            "Escolha uma opção: 1\n",
            "Cadastro de Usuário\n",
            "R.A: 1979443\n",
            "Email: lucasvilharba@gmail.com\n",
            "Senha: ··········\n",
            "Confirme a senha: ··········\n",
            "Usuário cadastrado com sucesso!\n",
            "1 - Cadastrar novo usuário\n",
            "2 - Fazer login\n",
            "3 - Sair\n",
            "Escolha uma opção: 2\n",
            "Login\n",
            "R.A: 1979443\n",
            "Senha: ··········\n",
            "Usuário ou senha inválidos.\n",
            "1 - Cadastrar novo usuário\n",
            "2 - Fazer login\n",
            "3 - Sair\n",
            "Escolha uma opção: 2\n",
            "Login\n",
            "R.A: 1979443\n",
            "Senha: ··········\n",
            "Login bem-sucedido!\n",
            "1 - Cadastrar novo usuário\n",
            "2 - Fazer login\n",
            "3 - Sair\n",
            "Escolha uma opção: 3\n"
          ]
        }
      ],
      "source": [
        "from getpass import getpass\n",
        "\n",
        "\n",
        "class Usuario:\n",
        "    def __init__(self, ra, email, senha):\n",
        "        self.ra = ra\n",
        "        self.email = email\n",
        "        self.senha = senha\n",
        "\n",
        "\n",
        "usuarios = []\n",
        "\n",
        "\n",
        "def cadastrarUsuario():\n",
        "    print('Cadastro de Usuário')\n",
        "    ra = input('R.A: ')\n",
        "    email = input('Email: ')\n",
        "\n",
        "    while True:\n",
        "        senha = getpass('Senha: ')\n",
        "        confirmacaoSenha = getpass('Confirme a senha: ')\n",
        "\n",
        "        if senha == confirmacaoSenha:\n",
        "            usuario = Usuario(ra, email, senha)\n",
        "            usuarios.append(usuario)\n",
        "            print('Usuário cadastrado com sucesso!')\n",
        "            break\n",
        "        else:\n",
        "            print('As senhas estão divergentes. Tente novamente.')\n",
        "\n",
        "\n",
        "def fazerLogin():\n",
        "    print('Login')\n",
        "    ra = input('R.A: ')\n",
        "    senha = getpass('Senha: ')\n",
        "\n",
        "    for usuario in usuarios:\n",
        "        if usuario.ra == ra and usuario.senha == senha:\n",
        "            print('Login bem-sucedido!')\n",
        "            return\n",
        "\n",
        "    print('Usuário ou senha inválidos.')\n",
        "\n",
        "\n",
        "while True:\n",
        "    print('1 - Cadastrar novo usuário')\n",
        "    print('2 - Fazer login')\n",
        "    print('3 - Sair')\n",
        "    opcao = input('Escolha uma opção: ')\n",
        "\n",
        "    if opcao == '1':\n",
        "        cadastrarUsuario()\n",
        "    elif opcao == '2':\n",
        "        fazerLogin()\n",
        "    elif opcao == '3':\n",
        "        break\n",
        "    else:\n",
        "        print('Opção inválida! Tente novamente.')\n"
      ]
    }
  ]
}